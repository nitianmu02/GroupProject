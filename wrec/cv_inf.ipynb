{
 "cells": [
  {
   "cell_type": "code",
   "execution_count": 19,
   "metadata": {},
   "outputs": [],
   "source": [
    "import torch\n",
    "import torch.nn as nn\n",
    "from torchvision import models, transforms\n",
    "import utils\n",
    "from PIL import Image\n",
    "import csv\n",
    "from torch.autograd import Variable\n",
    "checkpoint_path = './checkpoints'\n",
    "data_transforms = transforms.Compose([\n",
    "        transforms.Resize((256, 256)),\n",
    "        transforms.ToTensor(),\n",
    "        # transforms.Normalize([0.485, 0.456, 0.406], [0.229, 0.224, 0.225])\n",
    "    ])\n",
    "\n",
    "def label_num_counter(ls):\n",
    "    lbs = {}\n",
    "    for line in ls:\n",
    "        for label in line[1:]:\n",
    "            if label not in lbs.keys():\n",
    "                lbs[label] = 1\n",
    "            else:\n",
    "                lbs[label] += 1\n",
    "    return lbs"
   ]
  },
  {
   "cell_type": "code",
   "execution_count": 20,
   "metadata": {},
   "outputs": [
    {
     "name": "stdout",
     "output_type": "stream",
     "text": [
      "loading latest checkpoint ./checkpoints\\cv_20.pth\n"
     ]
    },
    {
     "data": {
      "text/plain": [
       "Parameter containing:\n",
       "tensor([[1., 0., 0.,  ..., 0., 0., 0.],\n",
       "        [0., 1., 0.,  ..., 0., 0., 0.],\n",
       "        [0., 0., 1.,  ..., 0., 0., 0.],\n",
       "        ...,\n",
       "        [0., 0., 0.,  ..., 1., 0., 0.],\n",
       "        [0., 0., 0.,  ..., 0., 1., 0.],\n",
       "        [0., 0., 0.,  ..., 0., 0., 1.]])"
      ]
     },
     "execution_count": 20,
     "metadata": {},
     "output_type": "execute_result"
    }
   ],
   "source": [
    "model, _, _ = utils.load_checkpoint(utils.get_latest_checkpoint(checkpoint_path))\n",
    "model.eval()\n",
    "in_features = model.fc[0].in_features\n",
    "model.fc = nn.Linear(in_features, in_features)\n",
    "torch.nn.init.eye_(model.fc.weight.requires_grad_(False))"
   ]
  },
  {
   "cell_type": "code",
   "execution_count": 25,
   "metadata": {},
   "outputs": [],
   "source": [
    "import os\n",
    "\n",
    "import numpy as np\n",
    "import pickle\n",
    "\n",
    "features_dir = './features'\n",
    "images_dir = './imgs'\n",
    "features_dict = {}\n",
    "for img_name in os.listdir(images_dir):\n",
    "    img_path = os.path.join(images_dir, img_name)\n",
    "    img = Image.open(img_path)\n",
    "    img = data_transforms(img)\n",
    "    \n",
    "    for param in model.parameters():\n",
    "        param.requires_grad_(False)\n",
    "    \n",
    "    x = Variable(torch.unsqueeze(img, dim=0).float(), requires_grad=False)\n",
    "    y = model(x)\n",
    "    y = y.data.numpy()\n",
    "    features_dict[img_name] = y\n",
    "    # np.save(f'{os.path.join(features_dir, img_name)}.npy', y)\n",
    "with open('./features/features.pkl', 'wb') as fp:\n",
    "    pickle.dump(features_dict, fp)"
   ]
  }
 ],
 "metadata": {
  "kernelspec": {
   "display_name": "Python 3.9.5 64-bit",
   "language": "python",
   "name": "python3"
  },
  "language_info": {
   "codemirror_mode": {
    "name": "ipython",
    "version": 3
   },
   "file_extension": ".py",
   "mimetype": "text/x-python",
   "name": "python",
   "nbconvert_exporter": "python",
   "pygments_lexer": "ipython3",
   "version": "3.9.5"
  },
  "orig_nbformat": 4,
  "vscode": {
   "interpreter": {
    "hash": "93a557516c7927a68939ea2000df99164afbb6589cc020a740d8aca67ddacc7f"
   }
  }
 },
 "nbformat": 4,
 "nbformat_minor": 2
}
