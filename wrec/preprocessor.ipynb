{
 "cells": [
  {
   "cell_type": "code",
   "execution_count": 28,
   "metadata": {},
   "outputs": [
    {
     "name": "stdout",
     "output_type": "stream",
     "text": [
      "size of data 2078\n",
      "total number of labels 1546\n",
      "label frequency& label number: \n",
      "[(1, 828), (2, 242), (3, 112), (4, 61), (5, 37), (6, 39), (7, 35), (8, 20), (9, 13), (10, 14), (11, 16), (12, 10), (13, 4), (14, 14), (15, 9), (16, 6), (17, 6), (18, 4), (19, 2), (20, 2), (21, 5), (22, 4), (23, 3), (24, 3), (25, 2), (26, 2), (27, 2), (28, 1), (29, 2), (30, 2), (31, 1), (33, 1), (34, 1), (35, 1), (37, 1), (38, 2), (40, 1), (41, 1), (42, 1), (44, 2), (45, 2), (47, 1), (48, 1), (49, 1), (50, 1), (51, 1), (52, 1), (53, 1), (55, 1), (58, 1), (60, 1), (63, 1), (67, 1), (83, 1), (90, 1), (97, 1), (111, 1), (123, 1), (141, 1), (145, 1), (148, 1), (160, 1), (164, 1), (176, 1), (179, 1), (205, 1), (213, 1), (271, 1), (276, 1), (277, 1), (289, 1), (400, 1), (555, 1)]\n",
      "label frequency under 4 will be pruned\n",
      "number of labels to be pruned 1243\n"
     ]
    }
   ],
   "source": [
    "import csv\n",
    "import random\n",
    "\n",
    "filelist_path = './filelist/filelist_raw.csv'\n",
    "pruned_filelist_path = './filelist/filelist.csv'\n",
    "val_ratio = 0.05\n",
    "labels = {}\n",
    "labels_set = set()\n",
    "\n",
    "f = open(filelist_path, 'r', encoding = 'utf8')\n",
    "filels = list(csv.reader(f))\n",
    "f.close()\n",
    "size = len(filels)\n",
    "print(f'size of data {size}') \n",
    "\n",
    "def label_num_counter(ls):\n",
    "    lbs = {}\n",
    "    for line in ls:\n",
    "        for label in line[1:]:\n",
    "            if label not in lbs.keys():\n",
    "                lbs[label] = 1\n",
    "            else:\n",
    "                lbs[label] += 1\n",
    "    return len(lbs.items()), set(lbs.items())\n",
    "    \n",
    "for line in filels:\n",
    "    line.pop(1)\n",
    "    while '' in line:\n",
    "        line.remove('')\n",
    "    for label in line[1:]:\n",
    "        if label not in labels.keys():\n",
    "            labels[label] = 1\n",
    "        else:\n",
    "            labels[label] += 1           \n",
    "\n",
    "num_labels = len(labels)\n",
    "random.shuffle(filels)\n",
    "print(f'total number of labels {num_labels}')\n",
    "\n",
    "\n",
    "value_num = len(set([v for v in labels.values()]))\n",
    "label_counter = {}\n",
    "for v in labels.values():\n",
    "    if v not in label_counter.keys():\n",
    "        label_counter[v] = 1\n",
    "    else:\n",
    "        label_counter[v] += 1\n",
    "label_counter = set(label_counter.items())\n",
    "label_counter = sorted(label_counter, key=lambda x:x[0])\n",
    "print(f'label frequency& label number: \\n{label_counter}')\n",
    "\n",
    "thres = 4\n",
    "print(f'label frequency under {thres} will be pruned')\n",
    "\n",
    "pruned_label_ls = []\n",
    "for k, v in labels.items():\n",
    "    if v <= thres:\n",
    "        pruned_label_ls.append(k)\n",
    "print(f'number of labels to be pruned {len(pruned_label_ls)}')"
   ]
  },
  {
   "cell_type": "code",
   "execution_count": 29,
   "metadata": {},
   "outputs": [
    {
     "name": "stdout",
     "output_type": "stream",
     "text": [
      "data size after prunning: 2078\n",
      "total number of labels 303\n"
     ]
    }
   ],
   "source": [
    "pruned_filelist = []\n",
    "for line in filels:\n",
    "    for label in line[1:]:\n",
    "        if label in pruned_label_ls:\n",
    "            line.remove(label)\n",
    "    if len(line) <= 1:\n",
    "        continue\n",
    "    pruned_filelist.append(line)\n",
    "print(f'data size after prunning: {len(pruned_filelist)}')\n",
    "\n",
    "p_num_labels, _ = label_num_counter(pruned_filelist)\n",
    "print(f'total number of labels {p_num_labels}')"
   ]
  },
  {
   "cell_type": "code",
   "execution_count": 30,
   "metadata": {},
   "outputs": [],
   "source": [
    "pruned_filelist.sort(key=lambda ls:len(ls), reverse=True)\n",
    "with open(pruned_filelist_path, 'w', newline='', encoding='utf8') as f:\n",
    "    writer = csv.writer(f)\n",
    "    for line in pruned_filelist:\n",
    "        writer.writerow(line)"
   ]
  },
  {
   "cell_type": "code",
   "execution_count": null,
   "metadata": {},
   "outputs": [],
   "source": []
  }
 ],
 "metadata": {
  "kernelspec": {
   "display_name": "Python 3.9.12 ('base')",
   "language": "python",
   "name": "python3"
  },
  "language_info": {
   "codemirror_mode": {
    "name": "ipython",
    "version": 3
   },
   "file_extension": ".py",
   "mimetype": "text/x-python",
   "name": "python",
   "nbconvert_exporter": "python",
   "pygments_lexer": "ipython3",
   "version": "3.9.12"
  },
  "orig_nbformat": 4,
  "vscode": {
   "interpreter": {
    "hash": "ad2bdc8ecc057115af97d19610ffacc2b4e99fae6737bb82f5d7fb13d2f2c186"
   }
  }
 },
 "nbformat": 4,
 "nbformat_minor": 2
}
